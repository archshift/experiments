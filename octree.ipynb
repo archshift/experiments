{
 "cells": [
  {
   "cell_type": "code",
   "execution_count": 60,
   "metadata": {},
   "outputs": [
    {
     "data": {
      "text/plain": [
       "[[], [], [], []]"
      ]
     },
     "execution_count": 60,
     "metadata": {},
     "output_type": "execute_result"
    }
   ],
   "source": [
    "%matplotlib inline\n",
    "import numpy as np\n",
    "import matplotlib.pyplot as plt\n",
    "import matplotlib.patches as patches\n",
    "\n",
    "WIDTH = 20\n",
    "HEIGHT = 10\n",
    "\n",
    "ops = 0\n",
    "def add_op():\n",
    "    global ops\n",
    "    ops += 1\n",
    "def reset_ops():\n",
    "    global ops\n",
    "    ops = 0\n",
    "\n",
    "class Grid:\n",
    "    def __init__(self, w, h):\n",
    "        self.boxes = [Box(w/2, h/2), Box(w/2, h/2), Box(w/2, h/2), Box(w/2, h/2)]\n",
    "        self.w = w\n",
    "        self.h = h\n",
    "        \n",
    "    def pos_of(where):\n",
    "        return int(where[0] >= 0) | (int(where[1] >= 0) << 1) # -1,-1:0 1,-1:1 -1,1:2 1,1:3\n",
    "    \n",
    "    def center_of(self, pos):\n",
    "        signs = np.array([-2*int(pos & 1 == 0)+1, -2*int(pos & 2 == 0)+1])\n",
    "        return signs * np.array([self.w / 4, self.h / 4])\n",
    "    \n",
    "    def recenter(self, where, pos):\n",
    "        return where - self.center_of(pos)\n",
    "    \n",
    "    def nearest_item(self, where, abs_pos=None):\n",
    "        if abs_pos is None:\n",
    "            abs_pos = where\n",
    "\n",
    "        pos = Grid.pos_of(where)\n",
    "        print([pos] + [n for n in range(4) if n != pos])\n",
    "        for pos in [pos] + [n for n in range(4) if n != pos]:\n",
    "            add_op()\n",
    "            print(\"Looking in {}\".format(pos))\n",
    "            found = self.boxes[pos].nearest_item(self.recenter(where, pos), abs_pos)\n",
    "            if found is not None:\n",
    "                return found\n",
    "    \n",
    "    def add_item(self, item, where):\n",
    "        pos = Grid.pos_of(where)\n",
    "        self.boxes[pos].add_item(item, self.recenter(where, pos))\n",
    "        \n",
    "    def __repr__(self):\n",
    "        return str(self.boxes)\n",
    "\n",
    "class Box:\n",
    "    def __init__(self, w, h):\n",
    "        self.item = None\n",
    "        self.item_pos = None\n",
    "        self.sub = None\n",
    "        self.w = w\n",
    "        self.h = h\n",
    "\n",
    "    def nearest_item(self, where, abs_pos):\n",
    "        if self.sub:\n",
    "            return self.sub.nearest_item(where, abs_pos)\n",
    "        elif self.item is not None:\n",
    "            return self.item\n",
    "        \n",
    "    def add_item(self, item, where):\n",
    "        assert self.item is None or self.sub is None\n",
    "\n",
    "        if self.item is None and self.sub is None:\n",
    "            self.item = item\n",
    "            self.item_pos = where\n",
    "            return\n",
    "\n",
    "        assert not np.array_equal(self.item_pos, where), \"Can't have two items occupying the same location!\"\n",
    "\n",
    "        if self.item is not None and self.sub is None:\n",
    "            self.sub = Grid(self.w, self.h)\n",
    "            curr_item, curr_where = self.item, self.item_pos\n",
    "            self.item = None\n",
    "            self.item_pos = None\n",
    "            self.add_item(curr_item, curr_where)\n",
    "        if self.item is None and self.sub is not None:\n",
    "            self.sub.add_item(item, where)\n",
    "\n",
    "            \n",
    "    def __repr__(self):\n",
    "        if self.item is not None:\n",
    "            return \"[{}]\".format(self.item)\n",
    "        elif self.sub is not None:\n",
    "            return str(self.sub)\n",
    "        else:\n",
    "            return \"[]\"\n",
    "        \n",
    "grid = Grid(WIDTH, HEIGHT)\n",
    "grid"
   ]
  },
  {
   "cell_type": "code",
   "execution_count": 61,
   "metadata": {},
   "outputs": [
    {
     "data": {
      "text/plain": [
       "[(0, array([ 0.89019565,  0.10102774])),\n",
       " (1, array([-4.91191609, -3.47452047])),\n",
       " (2, array([-8.5427896 ,  2.00631985])),\n",
       " (3, array([ 5.59236641,  3.41745389])),\n",
       " (4, array([ 5.18419698,  2.69155059])),\n",
       " (5, array([ 0.63643008,  1.84274065])),\n",
       " (6, array([ 8.27954096, -2.46561418])),\n",
       " (7, array([ 9.47307705,  1.57777507])),\n",
       " (8, array([-2.73764275, -3.50055926])),\n",
       " (9, array([ 9.21567699, -2.49247804]))]"
      ]
     },
     "execution_count": 61,
     "metadata": {},
     "output_type": "execute_result"
    }
   ],
   "source": [
    "items = []\n",
    "for i in range(10):\n",
    "    item = i\n",
    "    pos = np.random.uniform(-0.5, 0.5, size=2) * np.array([WIDTH, HEIGHT])\n",
    "    items.append((item, pos))\n",
    "    grid.add_item(item, pos)\n",
    "items"
   ]
  },
  {
   "cell_type": "code",
   "execution_count": 62,
   "metadata": {},
   "outputs": [
    {
     "name": "stdout",
     "output_type": "stream",
     "text": [
      "[3, 0, 1, 2]\n",
      "Looking in 3\n",
      "[0, 1, 2, 3]\n",
      "Looking in 0\n",
      "[0, 1, 2, 3]\n",
      "Looking in 0\n",
      "0 [(0, array([ 0.89019565,  0.10102774]))]\n",
      "(0, array([ 0.89019565,  0.10102774]))\n",
      "3 ops\n"
     ]
    },
    {
     "data": {
      "text/plain": [
       "True"
      ]
     },
     "execution_count": 62,
     "metadata": {},
     "output_type": "execute_result"
    }
   ],
   "source": [
    "ref = np.array([1, 1])\n",
    "\n",
    "reset_ops()\n",
    "nearest_item = grid.nearest_item(ref)\n",
    "nearest_item_pos = [i for i in items if i[0] == nearest_item]\n",
    "print(nearest_item, nearest_item_pos)\n",
    "\n",
    "lin_nearest_item = min(items, key=lambda p: np.linalg.norm(p[1] - ref))\n",
    "print(lin_nearest_item)\n",
    "\n",
    "print(ops, \"ops\")\n",
    "nearest_item == lin_nearest_item[0]"
   ]
  },
  {
   "cell_type": "code",
   "execution_count": 63,
   "metadata": {},
   "outputs": [
    {
     "data": {
      "image/png": "[encoded data removed]",
      "text/plain": [
       "<matplotlib.figure.Figure at 0x106e22a20>"
      ]
     },
     "metadata": {},
     "output_type": "display_data"
    }
   ],
   "source": [
    "fig2 = plt.figure()\n",
    "plt.xlim((-WIDTH/2, WIDTH/2))\n",
    "plt.ylim((-HEIGHT/2, HEIGHT/2))\n",
    "ax2 = fig2.add_subplot(111)\n",
    "\n",
    "def add_box(ax2, box, center):\n",
    "    ax2.add_patch( patches.Rectangle( center - np.array([box.w/2, box.h/2]), box.w, box.h, fill=False ) )\n",
    "    if box.sub is not None:\n",
    "        add_gridrect(ax2, box.sub, center)\n",
    "    elif box.item_pos is not None:\n",
    "        plt.plot(*(center + box.item_pos), 'go')\n",
    "\n",
    "def add_gridrect(ax2, grid, center):\n",
    "    add_box(ax2, grid.boxes[0], center + np.array([-grid.w/4, -grid.h/4]))\n",
    "    add_box(ax2, grid.boxes[1], center + np.array([grid.w/4, -grid.h/4]))\n",
    "    add_box(ax2, grid.boxes[2], center + np.array([-grid.w/4, grid.h/4]))\n",
    "    add_box(ax2, grid.boxes[3], center + np.array([grid.w/4, grid.h/4]))\n",
    "    \n",
    "add_gridrect(ax2, grid, np.array([0, 0]))\n",
    "plt.show()"
   ]
  },
  {
   "cell_type": "code",
   "execution_count": null,
   "metadata": {
    "collapsed": true
   },
   "outputs": [],
   "source": []
  },
  {
   "cell_type": "code",
   "execution_count": null,
   "metadata": {
    "collapsed": true
   },
   "outputs": [],
   "source": []
  },
  {
   "cell_type": "code",
   "execution_count": null,
   "metadata": {
    "collapsed": true
   },
   "outputs": [],
   "source": []
  }
 ],
 "metadata": {
  "kernelspec": {
   "display_name": "Python 3",
   "language": "python",
   "name": "python3"
  },
  "language_info": {
   "codemirror_mode": {
    "name": "ipython",
    "version": 3
   },
   "file_extension": ".py",
   "mimetype": "text/x-python",
   "name": "python",
   "nbconvert_exporter": "python",
   "pygments_lexer": "ipython3",
   "version": "3.6.4"
  }
 },
 "nbformat": 4,
 "nbformat_minor": 2
}
